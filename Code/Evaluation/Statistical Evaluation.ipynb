{
 "cells": [
  {
   "cell_type": "code",
   "execution_count": 3,
   "id": "8efaf560-11d2-487f-8e8c-c1cf1f224b04",
   "metadata": {},
   "outputs": [
    {
     "name": "stdout",
     "output_type": "stream",
     "text": [
      "Baseline Accuracy: Mean = 62.8 , Median = 87.0 , Std Dev = 34.20175434096912\n",
      "Baseline Precision: Mean = 12.4 , Median = 5.0 , Std Dev = 13.365627557282899\n",
      "Baseline TCE: Mean = 12.4 , Median = 15.0 , Std Dev = 6.118823416311341\n",
      "Post FT Accuracy: Mean = 86.4 , Median = 87.0 , Std Dev = 5.986651818838307\n",
      "Post FT Precision: Mean = 29.4 , Median = 31.0 , Std Dev = 14.59588983241515\n",
      "Post FT TCE: Mean = 10.0 , Median = 9.0 , Std Dev = 4.381780460041329\n"
     ]
    }
   ],
   "source": [
    "import pandas as pd\n",
    "import numpy as np\n",
    "import matplotlib.pyplot as plt\n",
    "\n",
    "# Data preparation\n",
    "baseline_data = {\n",
    "    'Model': ['Llama 2', 'Mistral Instruct', 'gpt-3.5-turbo-0125', 'gpt-4-turbo-2024-04-09', 'gpt-4o-2024-05-13'],\n",
    "    'Accuracy': [21, 21, 87, 91, 94],\n",
    "    'Precision': [0, 0, 5, 26, 31],\n",
    "    'TCE': [4, 21, 7, 15, 15]\n",
    "}\n",
    "\n",
    "post_ft_data = {\n",
    "    'Model': ['Llama 2 FT', 'Mistral Instruct FT', 'gpt-3.5-turbo-0125', 'gpt-4-turbo-2024-04-09', 'gpt-4o-2024-05-13'],\n",
    "    'Accuracy': [77, 83, 87, 91, 94],\n",
    "    'Precision': [35, 50, 5, 26, 31],\n",
    "    'TCE': [9, 4, 7, 15, 15]\n",
    "}\n",
    "\n",
    "# Create DataFrames\n",
    "baseline_df = pd.DataFrame(baseline_data)\n",
    "post_ft_df = pd.DataFrame(post_ft_data)\n",
    "\n",
    "# Calculate summary statistics\n",
    "def calculate_summary_statistics(df, metric):\n",
    "    mean = np.mean(df[metric])\n",
    "    median = np.median(df[metric])\n",
    "    std_dev = np.std(df[metric])\n",
    "    return mean, median, std_dev\n",
    "\n",
    "# Baseline statistics\n",
    "baseline_accuracy_stats = calculate_summary_statistics(baseline_df, 'Accuracy')\n",
    "baseline_precision_stats = calculate_summary_statistics(baseline_df, 'Precision')\n",
    "baseline_tce_stats = calculate_summary_statistics(baseline_df, 'TCE')\n",
    "\n",
    "# Post FT statistics\n",
    "post_ft_accuracy_stats = calculate_summary_statistics(post_ft_df, 'Accuracy')\n",
    "post_ft_precision_stats = calculate_summary_statistics(post_ft_df, 'Precision')\n",
    "post_ft_tce_stats = calculate_summary_statistics(post_ft_df, 'TCE')\n",
    "\n",
    "# Print summary statistics\n",
    "print(\"Baseline Accuracy: Mean =\", baseline_accuracy_stats[0], \", Median =\", baseline_accuracy_stats[1], \", Std Dev =\", baseline_accuracy_stats[2])\n",
    "print(\"Baseline Precision: Mean =\", baseline_precision_stats[0], \", Median =\", baseline_precision_stats[1], \", Std Dev =\", baseline_precision_stats[2])\n",
    "print(\"Baseline TCE: Mean =\", baseline_tce_stats[0], \", Median =\", baseline_tce_stats[1], \", Std Dev =\", baseline_tce_stats[2])\n",
    "\n",
    "print(\"Post FT Accuracy: Mean =\", post_ft_accuracy_stats[0], \", Median =\", post_ft_accuracy_stats[1], \", Std Dev =\", post_ft_accuracy_stats[2])\n",
    "print(\"Post FT Precision: Mean =\", post_ft_precision_stats[0], \", Median =\", post_ft_precision_stats[1], \", Std Dev =\", post_ft_precision_stats[2])\n",
    "print(\"Post FT TCE: Mean =\", post_ft_tce_stats[0], \", Median =\", post_ft_tce_stats[1], \", Std Dev =\", post_ft_tce_stats[2])"
   ]
  },
  {
   "cell_type": "code",
   "execution_count": 9,
   "id": "8431bc85-51da-48e1-96cd-bbfc6d09cdc5",
   "metadata": {},
   "outputs": [
    {
     "name": "stdout",
     "output_type": "stream",
     "text": [
      "              Model  Accuracy Change  Precision Change  TCE Change\n",
      "0           Llama 2               56                35           5\n",
      "1  Mistral Instruct               62                50         -17\n"
     ]
    }
   ],
   "source": [
    "# Comparative analysis\n",
    "accuracy_change = post_ft_df['Accuracy'] - baseline_df['Accuracy']\n",
    "precision_change = post_ft_df['Precision'] - baseline_df['Precision']\n",
    "tce_change = post_ft_df['TCE'] - baseline_df['TCE']\n",
    "\n",
    "# Create a DataFrame to hold the changes with model names\n",
    "changes_df = pd.DataFrame({\n",
    "    'Model': baseline_df['Model'],\n",
    "    'Accuracy Change': accuracy_change,\n",
    "    'Precision Change': precision_change,\n",
    "    'TCE Change': tce_change\n",
    "})\n",
    "\n",
    "# Print comparative analysis with model names\n",
    "print(changes_df.iloc[0:2,:])"
   ]
  },
  {
   "cell_type": "code",
   "execution_count": null,
   "id": "d42ebfba-8dd7-4bf1-8136-ea4e339f529a",
   "metadata": {},
   "outputs": [],
   "source": []
  }
 ],
 "metadata": {
  "kernelspec": {
   "display_name": "Python 3 (ipykernel)",
   "language": "python",
   "name": "python3"
  },
  "language_info": {
   "codemirror_mode": {
    "name": "ipython",
    "version": 3
   },
   "file_extension": ".py",
   "mimetype": "text/x-python",
   "name": "python",
   "nbconvert_exporter": "python",
   "pygments_lexer": "ipython3",
   "version": "3.11.8"
  }
 },
 "nbformat": 4,
 "nbformat_minor": 5
}
