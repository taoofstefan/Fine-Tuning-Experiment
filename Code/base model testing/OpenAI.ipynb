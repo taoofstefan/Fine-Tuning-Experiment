{
 "cells": [
  {
   "cell_type": "code",
   "execution_count": null,
   "id": "bbd435fb-a752-400a-9ccd-550ecd74aef1",
   "metadata": {},
   "outputs": [],
   "source": [
    "# !pip install openai\n",
    "# !pip install --upgrade openai\n",
    "# !pip install python-dotenv"
   ]
  },
  {
   "cell_type": "code",
   "execution_count": 1,
   "id": "0b30ab6e-d7fe-4582-9f40-324f84fb5c25",
   "metadata": {},
   "outputs": [],
   "source": [
    "from llama_cpp import Llama\n",
    "import os\n",
    "import time\n",
    "import openai\n",
    "import pandas as pd\n",
    "import json\n",
    "from datasets import load_dataset "
   ]
  },
  {
   "cell_type": "code",
   "execution_count": 2,
   "id": "e949c8ff-c289-4ac1-9da7-165e9089e1c0",
   "metadata": {},
   "outputs": [
    {
     "name": "stdout",
     "output_type": "stream",
     "text": [
      "Token has not been saved to git credential helper. Pass `add_to_git_credential=True` if you want to set the git credential as well.\n",
      "Token is valid (permission: read).\n",
      "Your token has been saved to C:\\Users\\stefa\\.cache\\huggingface\\token\n",
      "Login successful\n",
      "taoofstefan\n"
     ]
    }
   ],
   "source": [
    "!huggingface-cli login --token hf_\n",
    "!huggingface-cli whoami"
   ]
  },
  {
   "cell_type": "code",
   "execution_count": 3,
   "id": "37574c29-9a20-48ba-8556-8751e360fba1",
   "metadata": {},
   "outputs": [],
   "source": [
    "from openai import OpenAI\n",
    "\n",
    "client = OpenAI(\n",
    "      api_key=\"Your-API-Key\"\n",
    ")"
   ]
  },
  {
   "cell_type": "code",
   "execution_count": 4,
   "id": "70f99693-aaf9-43bc-8482-d9762c13d8aa",
   "metadata": {},
   "outputs": [
    {
     "name": "stdout",
     "output_type": "stream",
     "text": [
      "Dataset({\n",
      "    features: ['Question', 'Answer'],\n",
      "    num_rows: 100\n",
      "})\n"
     ]
    }
   ],
   "source": [
    "test = load_dataset('taoofstefan/function_call_weather', split='test')\n",
    "print(test)"
   ]
  },
  {
   "cell_type": "code",
   "execution_count": 5,
   "id": "4bd16c68-4253-48cd-b5db-5038d481ad11",
   "metadata": {},
   "outputs": [],
   "source": [
    "df = pd.DataFrame(test)"
   ]
  },
  {
   "cell_type": "code",
   "execution_count": 6,
   "id": "a9f35b32-af1f-4838-9200-d38c028273ca",
   "metadata": {},
   "outputs": [
    {
     "data": {
      "text/html": [
       "<div>\n",
       "<style scoped>\n",
       "    .dataframe tbody tr th:only-of-type {\n",
       "        vertical-align: middle;\n",
       "    }\n",
       "\n",
       "    .dataframe tbody tr th {\n",
       "        vertical-align: top;\n",
       "    }\n",
       "\n",
       "    .dataframe thead th {\n",
       "        text-align: right;\n",
       "    }\n",
       "</style>\n",
       "<table border=\"1\" class=\"dataframe\">\n",
       "  <thead>\n",
       "    <tr style=\"text-align: right;\">\n",
       "      <th></th>\n",
       "      <th>Question</th>\n",
       "      <th>Answer</th>\n",
       "    </tr>\n",
       "  </thead>\n",
       "  <tbody>\n",
       "    <tr>\n",
       "      <th>0</th>\n",
       "      <td>What will be the peak temperature in Lagos today?</td>\n",
       "      <td>{'type': 'function', 'function': {'name': 'get...</td>\n",
       "    </tr>\n",
       "    <tr>\n",
       "      <th>1</th>\n",
       "      <td>How does the weather today in Sao Paulo compar...</td>\n",
       "      <td>{'type': 'function', 'function': {'name': 'get...</td>\n",
       "    </tr>\n",
       "    <tr>\n",
       "      <th>2</th>\n",
       "      <td>how warm is it in Kuala Lumpur right now?</td>\n",
       "      <td>{'type': 'function', 'function': {'name': 'get...</td>\n",
       "    </tr>\n",
       "    <tr>\n",
       "      <th>3</th>\n",
       "      <td>What is the UV index in Nairobi today?</td>\n",
       "      <td>{'type': 'function', 'function': {'name': 'get...</td>\n",
       "    </tr>\n",
       "    <tr>\n",
       "      <th>4</th>\n",
       "      <td>Is Lagos experiencing any extreme weather cond...</td>\n",
       "      <td>{'type': 'function', 'function': {'name': 'get...</td>\n",
       "    </tr>\n",
       "    <tr>\n",
       "      <th>...</th>\n",
       "      <td>...</td>\n",
       "      <td>...</td>\n",
       "    </tr>\n",
       "    <tr>\n",
       "      <th>95</th>\n",
       "      <td>Is there any rain expected in Rio de Janeiro w...</td>\n",
       "      <td>{'type': 'function', 'function': {'name': 'get...</td>\n",
       "    </tr>\n",
       "    <tr>\n",
       "      <th>96</th>\n",
       "      <td>What's the wind forecast for Hong Kong today?</td>\n",
       "      <td>{'type': 'function', 'function': {'name': 'get...</td>\n",
       "    </tr>\n",
       "    <tr>\n",
       "      <th>97</th>\n",
       "      <td>Will temperatures rise significantly in Gaboro...</td>\n",
       "      <td>Weather conditions, including cold snaps and e...</td>\n",
       "    </tr>\n",
       "    <tr>\n",
       "      <th>98</th>\n",
       "      <td>Are freezing temperatures expected in Budapest...</td>\n",
       "      <td>{'type': 'function', 'function': {'name': 'get...</td>\n",
       "    </tr>\n",
       "    <tr>\n",
       "      <th>99</th>\n",
       "      <td>What are the expected high and low temperature...</td>\n",
       "      <td>{'type': 'function', 'function': {'name': 'get...</td>\n",
       "    </tr>\n",
       "  </tbody>\n",
       "</table>\n",
       "<p>100 rows × 2 columns</p>\n",
       "</div>"
      ],
      "text/plain": [
       "                                             Question  \\\n",
       "0   What will be the peak temperature in Lagos today?   \n",
       "1   How does the weather today in Sao Paulo compar...   \n",
       "2           how warm is it in Kuala Lumpur right now?   \n",
       "3              What is the UV index in Nairobi today?   \n",
       "4   Is Lagos experiencing any extreme weather cond...   \n",
       "..                                                ...   \n",
       "95  Is there any rain expected in Rio de Janeiro w...   \n",
       "96      What's the wind forecast for Hong Kong today?   \n",
       "97  Will temperatures rise significantly in Gaboro...   \n",
       "98  Are freezing temperatures expected in Budapest...   \n",
       "99  What are the expected high and low temperature...   \n",
       "\n",
       "                                               Answer  \n",
       "0   {'type': 'function', 'function': {'name': 'get...  \n",
       "1   {'type': 'function', 'function': {'name': 'get...  \n",
       "2   {'type': 'function', 'function': {'name': 'get...  \n",
       "3   {'type': 'function', 'function': {'name': 'get...  \n",
       "4   {'type': 'function', 'function': {'name': 'get...  \n",
       "..                                                ...  \n",
       "95  {'type': 'function', 'function': {'name': 'get...  \n",
       "96  {'type': 'function', 'function': {'name': 'get...  \n",
       "97  Weather conditions, including cold snaps and e...  \n",
       "98  {'type': 'function', 'function': {'name': 'get...  \n",
       "99  {'type': 'function', 'function': {'name': 'get...  \n",
       "\n",
       "[100 rows x 2 columns]"
      ]
     },
     "execution_count": 6,
     "metadata": {},
     "output_type": "execute_result"
    }
   ],
   "source": [
    "# df = df.head(10)\n",
    "df"
   ]
  },
  {
   "cell_type": "code",
   "execution_count": 7,
   "id": "81edcafa-5695-49b0-a6b1-c963033b1dbe",
   "metadata": {},
   "outputs": [],
   "source": [
    "tools = [{\n",
    "        \"type\": \"function\",\n",
    "        \"function\": {\n",
    "            \"name\": \"get_current_weather\",\n",
    "            \"description\": \"Get the current weather\",\n",
    "            \"parameters\": {\n",
    "                \"type\": \"object\",\n",
    "                \"properties\": {\n",
    "                    \"location\": {\n",
    "                        \"type\": \"string\",\n",
    "                        \"description\": \"The city and state, e.g. San Francisco, CA\",\n",
    "                    },\n",
    "                    \"format\": {\n",
    "                        \"type\": \"string\",\n",
    "                        \"enum\": [\"celsius\", \"fahrenheit\"],\n",
    "                        \"description\": \"The temperature unit to use. Infer this from the users location.\",\n",
    "                    },\n",
    "                },\n",
    "                \"required\": [\"location\", \"format\"],\n",
    "            },\n",
    "        }\n",
    "    }]"
   ]
  },
  {
   "cell_type": "code",
   "execution_count": 11,
   "id": "404ad4b3-6c81-4c88-8aef-13d0ee419ea3",
   "metadata": {},
   "outputs": [],
   "source": [
    "gpt_model = \"gpt-4o-2024-05-13\"\n",
    "# gpt_model = \"gpt-4-turbo-2024-04-09\"\n",
    "# gpt_model = \"gpt-3.5-turbo-0125\""
   ]
  },
  {
   "cell_type": "code",
   "execution_count": 8,
   "id": "4613ded3-8e68-47d9-af54-e59f26572b18",
   "metadata": {},
   "outputs": [],
   "source": [
    "# Number of iterations\n",
    "num_iterations = 1"
   ]
  },
  {
   "cell_type": "code",
   "execution_count": 9,
   "id": "a600db7c-e965-4bc9-8f06-0be622fc450c",
   "metadata": {},
   "outputs": [],
   "source": [
    "system_message = \"You are a helpful assistant with access to functions. Use the provided function to answer current weather questions.\""
   ]
  },
  {
   "cell_type": "code",
   "execution_count": 12,
   "id": "320986b6-34b2-4cd4-9cd0-411e3d4a602f",
   "metadata": {},
   "outputs": [],
   "source": [
    "# Loop through your dataset\n",
    "for i in range(len(df)):\n",
    "    # Your prompt or input from the dataset\n",
    "    user_input = df.loc[i, 'Question']  # Adjust column name as needed\n",
    "    \n",
    "    for j in range(num_iterations):\n",
    "        # Start timer for measuring inference time\n",
    "        start = time.time()\n",
    "        \n",
    "        # Call OpenAI API for inference\n",
    "        response = client.chat.completions.create(\n",
    "            model=gpt_model,\n",
    "            messages=[\n",
    "                {\"role\": \"system\", \"content\": system_message},\n",
    "                {\"role\": \"user\", \"content\": user_input}\n",
    "            ],\n",
    "            functions=[tools[0]['function']], \n",
    "            function_call=\"auto\"\n",
    "        )\n",
    "        \n",
    "        # Extract the assistant's response based on finish_reason\n",
    "        if response.choices[0].finish_reason == 'function_call':\n",
    "            result = response.choices[0].message.function_call.arguments\n",
    "        else:\n",
    "            result = response.choices[0].message.content\n",
    "        \n",
    "        # Store the response in the DataFrame\n",
    "        df.at[i, f'Result_{j}'] = result\n",
    "        \n",
    "        # End timer\n",
    "        end = time.time()\n",
    "        \n",
    "        # Calculate duration and store it\n",
    "        duration = end - start\n",
    "        df.at[i, f'Inference_Time_{j}'] = duration"
   ]
  },
  {
   "cell_type": "code",
   "execution_count": 13,
   "id": "1a3186bf-c3e0-4a09-8455-d683153511f9",
   "metadata": {},
   "outputs": [
    {
     "data": {
      "text/plain": [
       "0               {\"location\":\"Lagos\",\"format\":\"celsius\"}\n",
       "1           {\"location\":\"Sao Paulo\",\"format\":\"celsius\"}\n",
       "2        {\"location\":\"Kuala Lumpur\",\"format\":\"celsius\"}\n",
       "3             {\"location\":\"Nairobi\",\"format\":\"celsius\"}\n",
       "4      {\"location\":\"Lagos, Nigeria\",\"format\":\"celsius\"}\n",
       "                            ...                        \n",
       "95     {\"location\":\"Rio de Janeiro\",\"format\":\"celsius\"}\n",
       "96          {\"location\":\"Hong Kong\",\"format\":\"celsius\"}\n",
       "97    I currently don't have access to weather forec...\n",
       "98    {\"location\":\"Budapest, Hungary\",\"format\":\"cels...\n",
       "99              {\"location\":\"Dubai\",\"format\":\"celsius\"}\n",
       "Name: Result_0, Length: 100, dtype: object"
      ]
     },
     "execution_count": 13,
     "metadata": {},
     "output_type": "execute_result"
    }
   ],
   "source": [
    "df['Result_0']"
   ]
  },
  {
   "cell_type": "code",
   "execution_count": 14,
   "id": "38d1b3d3-b5ec-40ee-832f-4d6719f2ba26",
   "metadata": {},
   "outputs": [],
   "source": [
    "# Dynamically set the output file name based on the model used\n",
    "output_file_path = rf\"Your-Path\\result_openai_{gpt_model}.csv\""
   ]
  },
  {
   "cell_type": "code",
   "execution_count": 15,
   "id": "f5648d93-9cea-4233-afee-9d16c6eab9e3",
   "metadata": {},
   "outputs": [],
   "source": [
    "# Save to CSV with a specified delimiter\n",
    "# Save the updated DataFrame with the results\n",
    "df.to_csv(output_file_path, sep=\";\", index=False)"
   ]
  },
  {
   "cell_type": "code",
   "execution_count": null,
   "id": "917b343d-4c54-4a02-84e4-5126c5fb875e",
   "metadata": {},
   "outputs": [],
   "source": [
    "df['Answer'][0]"
   ]
  },
  {
   "cell_type": "code",
   "execution_count": null,
   "id": "1abea7cc-bfe4-4aad-8da7-a4f8bab8d07e",
   "metadata": {},
   "outputs": [],
   "source": [
    "import ast"
   ]
  },
  {
   "cell_type": "code",
   "execution_count": null,
   "id": "efd3b156-a7e1-4bb4-a028-52faccdbd3a8",
   "metadata": {},
   "outputs": [],
   "source": [
    "answer_dict = ast.literal_eval(df['Answer'][0])\n",
    "\n",
    "# Access the nested dictionary\n",
    "parameters = answer_dict['function']['parameters']\n",
    "\n",
    "print(parameters)"
   ]
  },
  {
   "cell_type": "code",
   "execution_count": null,
   "id": "4fc5d5ae-0c52-4043-80c0-0b397570ace1",
   "metadata": {},
   "outputs": [],
   "source": [
    "import ast\n",
    "\n",
    "def extract_parameters(answer):\n",
    "    try:\n",
    "        # Try to parse the string and extract the 'parameters' dictionary\n",
    "        parsed_answer = ast.literal_eval(answer)\n",
    "        return parsed_answer['function']['parameters']\n",
    "    except (ValueError, SyntaxError, KeyError):\n",
    "        # If there is an error, return the original answer\n",
    "        return answer\n",
    "\n",
    "# Create a new column 'Answer_Parameters' to store the 'parameters' dictionary or original answer\n",
    "df['Answer_Parameters'] = df['Answer'].apply(extract_parameters)\n",
    "\n",
    "# Display the DataFrame to verify the new column\n",
    "print(df[['Answer', 'Answer_Parameters']])\n",
    "\n"
   ]
  },
  {
   "cell_type": "code",
   "execution_count": null,
   "id": "43eac461-7e8e-483a-99b6-4180700b0316",
   "metadata": {},
   "outputs": [],
   "source": [
    "df.iloc[1]"
   ]
  },
  {
   "cell_type": "code",
   "execution_count": null,
   "id": "52f812da-cddf-4859-840f-99a27ccbea65",
   "metadata": {},
   "outputs": [],
   "source": [
    "# Ensure both columns exist\n",
    "if 'Result_0' in df.columns and 'Answer_Parameters' in df.columns:\n",
    "    # Create a new column 'Comparison' to store the comparison results\n",
    "    df['Comparison'] = df['Result_0'] == df['Answer_Parameters']\n",
    "\n",
    "# Display the DataFrame to verify the new column\n",
    "print(df[['Result_0', 'Answer_Parameters']])\n"
   ]
  },
  {
   "cell_type": "code",
   "execution_count": null,
   "id": "ffe63463-72fc-4161-8f7c-63bc05b86b6a",
   "metadata": {},
   "outputs": [],
   "source": [
    "df.iloc[1]['Result_0']"
   ]
  },
  {
   "cell_type": "code",
   "execution_count": null,
   "id": "e59fda97-227d-436b-bb3d-610e26dabcbb",
   "metadata": {},
   "outputs": [],
   "source": [
    "df.iloc[1]['Answer_Parameters']"
   ]
  },
  {
   "cell_type": "code",
   "execution_count": null,
   "id": "054e382a-a97e-4d32-865f-c8a88bf0cf80",
   "metadata": {},
   "outputs": [],
   "source": [
    "import ast\n",
    "import json\n",
    "\n",
    "# Function to convert JSON strings to dictionaries\n",
    "def convert_to_dict(value):\n",
    "    if isinstance(value, str):\n",
    "        try:\n",
    "            return json.loads(value)  # Try to parse as JSON\n",
    "        except json.JSONDecodeError:\n",
    "            try:\n",
    "                return ast.literal_eval(value)  # Try to parse using ast.literal_eval\n",
    "            except (ValueError, SyntaxError):\n",
    "                return value  # Return the original value if parsing fails\n",
    "    return value\n",
    "\n",
    "# Convert both columns to dictionaries if needed\n",
    "df['Result_0_dict'] = df['Result_0'].apply(convert_to_dict)\n",
    "df['Answer_Parameters_dict'] = df['Answer_Parameters'].apply(convert_to_dict)\n",
    "\n",
    "# Compare the converted columns\n",
    "df['Comparison'] = df['Result_0_dict'] == df['Answer_Parameters_dict']\n",
    "\n",
    "# Display the DataFrame to verify the new columns\n",
    "print(df[['Result_0', 'Answer_Parameters', 'Result_0_dict', 'Answer_Parameters_dict', 'Comparison']])\n"
   ]
  },
  {
   "cell_type": "code",
   "execution_count": null,
   "id": "78926808-01ae-4847-afde-9d0ae0efe015",
   "metadata": {},
   "outputs": [],
   "source": [
    "print(df['Comparison'] == True)"
   ]
  },
  {
   "cell_type": "code",
   "execution_count": null,
   "id": "15bb1765-a6c2-44f8-afd4-daf8c823a678",
   "metadata": {},
   "outputs": [],
   "source": [
    "# Filter the DataFrame to get the rows where Comparison is True\n",
    "true_comparisons = df[df['Comparison'] == True]\n",
    "\n",
    "# Print the filtered DataFrame\n",
    "print(true_comparisons[['Comparison']])\n"
   ]
  },
  {
   "cell_type": "code",
   "execution_count": null,
   "id": "4a32c052-7cba-47ad-b25a-ec4304c67ff2",
   "metadata": {},
   "outputs": [],
   "source": []
  }
 ],
 "metadata": {
  "kernelspec": {
   "display_name": "Python 3 (ipykernel)",
   "language": "python",
   "name": "python3"
  },
  "language_info": {
   "codemirror_mode": {
    "name": "ipython",
    "version": 3
   },
   "file_extension": ".py",
   "mimetype": "text/x-python",
   "name": "python",
   "nbconvert_exporter": "python",
   "pygments_lexer": "ipython3",
   "version": "3.11.8"
  }
 },
 "nbformat": 4,
 "nbformat_minor": 5
}
